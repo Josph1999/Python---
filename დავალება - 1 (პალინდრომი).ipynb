{
 "cells": [
  {
   "cell_type": "code",
   "execution_count": null,
   "metadata": {},
   "outputs": [],
   "source": [
    "name=input()\n",
    "\n",
    "#გვიჩვენებს შემობრუნებულ სიტყვას\n",
    "if name [::-1] == name:\n",
    "    print(True)\n",
    "else:\n",
    "    print(False)\n",
    "#გვიჩვენებს კოდის გაგრძელებას \n",
    "while True or False:\n",
    "    \n",
    "    name=input()\n",
    "    \n",
    "    if name [::-1] == name:\n",
    "        print(True)\n",
    "    else:\n",
    "        print(False)\n",
    "        \n",
    "        "
   ]
  },
  {
   "cell_type": "code",
   "execution_count": null,
   "metadata": {},
   "outputs": [],
   "source": []
  },
  {
   "cell_type": "code",
   "execution_count": null,
   "metadata": {},
   "outputs": [],
   "source": []
  }
 ],
 "metadata": {
  "kernelspec": {
   "display_name": "Python 3",
   "language": "python",
   "name": "python3"
  },
  "language_info": {
   "codemirror_mode": {
    "name": "ipython",
    "version": 3
   },
   "file_extension": ".py",
   "mimetype": "text/x-python",
   "name": "python",
   "nbconvert_exporter": "python",
   "pygments_lexer": "ipython3",
   "version": "3.8.5"
  }
 },
 "nbformat": 4,
 "nbformat_minor": 4
}
