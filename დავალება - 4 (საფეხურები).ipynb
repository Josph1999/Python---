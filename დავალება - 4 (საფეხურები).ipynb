{
 "cells": [
  {
   "cell_type": "code",
   "execution_count": 7,
   "metadata": {},
   "outputs": [
    {
     "name": "stdout",
     "output_type": "stream",
     "text": [
      "გთხოვთ შეიყვანეთ n-ის მნიშვნელობა : 1\n",
      "ყველა შესაძლებელი ვარიანტის რაოდენობა არის 2\n"
     ]
    }
   ],
   "source": [
    "# იქიდან გამომდინარე, რომ გვაქვს n საფეხურიანი კიბე და თითოეულ საფეხურზე ასვლის 2 ვარიანტი გვაქვს (1,2) ნაბისმიერი n ისთვის,\n",
    "# ვარიანტთა რაოდენობა იქნება 2 ხარისხად n-ი.\n",
    "\n",
    "number = 2\n",
    "number = int(number)\n",
    "exponent = int(input(\"გთხოვთ შეიყვანეთ n-ის მნიშვნელობა : \"))\n",
    "power = 1\n",
    "\n",
    "for i in range(1, exponent + 1):\n",
    "    power = power * number\n",
    "    \n",
    "print(\"ყველა შესაძლებელი ვარიანტის რაოდენობა არის {2}\".format(number, exponent, power))"
   ]
  },
  {
   "cell_type": "code",
   "execution_count": null,
   "metadata": {},
   "outputs": [],
   "source": []
  }
 ],
 "metadata": {
  "kernelspec": {
   "display_name": "Python 3",
   "language": "python",
   "name": "python3"
  },
  "language_info": {
   "codemirror_mode": {
    "name": "ipython",
    "version": 3
   },
   "file_extension": ".py",
   "mimetype": "text/x-python",
   "name": "python",
   "nbconvert_exporter": "python",
   "pygments_lexer": "ipython3",
   "version": "3.8.5"
  }
 },
 "nbformat": 4,
 "nbformat_minor": 4
}
