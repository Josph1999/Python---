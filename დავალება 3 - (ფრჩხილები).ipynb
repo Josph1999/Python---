{
 "cells": [
  {
   "cell_type": "code",
   "execution_count": null,
   "metadata": {},
   "outputs": [
    {
     "name": "stdout",
     "output_type": "stream",
     "text": [
      "გთხოვთ გახსენით ფრჩხილი: ((\n",
      "გთხოვთ დახურეთ ფრჩხილი: ))\n",
      "(()) - სწორია\n",
      "გთხოვთ გახსენით ფრჩხილი: (((\n",
      "გთხოვთ დახურეთ ფრჩხილი: )\n",
      "((() - არასწორია\n"
     ]
    }
   ],
   "source": [
    "open_list = input(\"გთხოვთ გახსენით ფრჩხილი: \")\n",
    "close_list = input(\"გთხოვთ დახურეთ ფრჩხილი: \")\n",
    "\n",
    "string_check=open_list+close_list\n",
    "  \n",
    "# ეს ფუნქცია ამოწმებს ფრჩხილებს\n",
    "\n",
    "def check(parenth_string):\n",
    "    stack = []\n",
    "    for i in parenth_string:\n",
    "        if i in open_list:\n",
    "            stack.append(i)\n",
    "        elif i in close_list:\n",
    "            pos = close_list.index(i)\n",
    "            if ((len(stack) > 0) and\n",
    "                (open_list[pos] == stack[len(stack)-1])):\n",
    "                stack.pop()\n",
    "            else:\n",
    "                return \"არასწორია\"\n",
    "    if len(stack) == 0:\n",
    "        return \"სწორია\"\n",
    "    else:\n",
    "        return \"არასწორია\"\n",
    "  \n",
    "  \n",
    "# ეს გვიჩვენებს პასუხს, სწორია თუ არასწორია ფუნქცია.\n",
    "\n",
    "string = string_check\n",
    "\n",
    "print(string,\"-\", check(string))\n",
    "\n",
    "# ამით გრძელდება ფუნქცია.\n",
    "\n",
    "while True or False:\n",
    "    open_list = input(\"გთხოვთ გახსენით ფრჩხილი: \")\n",
    "    close_list = input(\"გთხოვთ დახურეთ ფრჩხილი: \")\n",
    "\n",
    "    string_check=open_list+close_list\n",
    "  \n",
    "  # ეს ფუნქცია ამოწმებს ფრჩხილებს\n",
    "    \n",
    "    def check(parenth_string):\n",
    "        stack = []\n",
    "        for i in parenth_string:\n",
    "            if i in open_list:\n",
    "                stack.append(i)\n",
    "            elif i in close_list:\n",
    "                pos = close_list.index(i)\n",
    "                if ((len(stack) > 0) and\n",
    "                    (open_list[pos] == stack[len(stack)-1])):\n",
    "                    stack.pop()\n",
    "                else:\n",
    "                    return \"არასწორია\"\n",
    "        if len(stack) == 0:\n",
    "            return \"სწორია\"\n",
    "        else:\n",
    "            return \"არასწორია\"\n",
    "\n",
    "    string = string_check\n",
    "\n",
    "    print(string,\"-\", check(string))\n",
    "\n",
    "    "
   ]
  },
  {
   "cell_type": "code",
   "execution_count": null,
   "metadata": {},
   "outputs": [],
   "source": []
  }
 ],
 "metadata": {
  "kernelspec": {
   "display_name": "Python 3",
   "language": "python",
   "name": "python3"
  },
  "language_info": {
   "codemirror_mode": {
    "name": "ipython",
    "version": 3
   },
   "file_extension": ".py",
   "mimetype": "text/x-python",
   "name": "python",
   "nbconvert_exporter": "python",
   "pygments_lexer": "ipython3",
   "version": "3.8.5"
  }
 },
 "nbformat": 4,
 "nbformat_minor": 4
}
